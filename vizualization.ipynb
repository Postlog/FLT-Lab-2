{
 "cells": [
  {
   "cell_type": "markdown",
   "metadata": {
    "pycharm": {
     "name": "#%% md\n"
    }
   },
   "source": [
    "# Лабораторная работа №2 команды Чайхана\n",
    "---\n",
    "\n",
    "*[github](https://github.com/Postlog/FLT-Lab-2)*"
   ]
  },
  {
   "cell_type": "code",
   "execution_count": 1,
   "metadata": {
    "pycharm": {
     "name": "#%%\n"
    }
   },
   "outputs": [],
   "source": [
    "# setting up\n",
    "%load_ext autoreload\n",
    "%autoreload 2\n",
    "\n",
    "# imports\n",
    "from visualization_utils.animate_list import animate_list"
   ]
  },
  {
   "cell_type": "code",
   "execution_count": 2,
   "metadata": {
    "pycharm": {
     "name": "#%%\n"
    }
   },
   "outputs": [
    {
     "data": {
      "application/vnd.jupyter.widget-view+json": {
       "model_id": "80f107f3b82f4efe8322ff66f8955754",
       "version_major": 2,
       "version_minor": 0
      },
      "text/plain": [
       "Play(value=0, interval=400)"
      ]
     },
     "metadata": {},
     "output_type": "display_data"
    },
    {
     "data": {
      "application/vnd.jupyter.widget-view+json": {
       "model_id": "5525eaa4ac084ff1a0c05748263c6491",
       "version_major": 2,
       "version_minor": 0
      },
      "text/plain": [
       "interactive(children=(IntSlider(value=0, description='step', max=19), Output()), _dom_classes=('widget-interac…"
      ]
     },
     "metadata": {},
     "output_type": "display_data"
    },
    {
     "data": {
      "text/plain": [
       "<function visualization_utils.animate_list.step_slice(lst, step)>"
      ]
     },
     "execution_count": 2,
     "metadata": {},
     "output_type": "execute_result"
    }
   ],
   "source": [
    "# Обертка для упрощения работы с графами\n",
    "from visualization_utils.graph import Graph, Arc, Node\n",
    "\n",
    "def enter_node(node):\n",
    "    node.SetColor('blue')\n",
    "\n",
    "def enter_arc(node, arc):\n",
    "    node.SetColor('green')\n",
    "    arc.attributes['style'] = 'dashed'\n",
    "    arc.attributes['color'] = 'green'\n",
    "\n",
    "def return_from_arc(node, arc):\n",
    "    arc.attributes['style'] = 'solid'\n",
    "    arc.attributes['color'] = 'red'\n",
    "    node.SetColor('blue')\n",
    "\n",
    "def ignore_arc(arc):\n",
    "    arc.attributes['color'] = 'blue'\n",
    "\n",
    "def leave_node(node):\n",
    "    node.SetColor('red')\n",
    "\n",
    "def dfs(graph: Graph, node_id, visited, outlist, path):\n",
    "    visited.add(node_id)\n",
    "    path.append(node_id)\n",
    "    enter_node(graph.nodes[node_id])\n",
    "    outlist.append(graph.Visualize())\n",
    "    for arc in graph.nodes[node_id].arcs:\n",
    "        if arc.end not in visited:\n",
    "            enter_arc(graph.nodes[node_id], arc)\n",
    "            dfs(graph, arc.end, visited, outlist, path)\n",
    "            return_from_arc(graph.nodes[node_id], arc)\n",
    "            path.append(node_id)\n",
    "        else:\n",
    "            ignore_arc(arc)\n",
    "        outlist.append(graph.Visualize())\n",
    "    leave_node(graph.nodes[node_id])\n",
    "\n",
    "arcs = [\n",
    "    Arc(1, 3, 3),\n",
    "    Arc(1, 4, 7),\n",
    "    Arc(4, 3, 2),\n",
    "    Arc(4, 5, 3),\n",
    "    Arc(1, 5, 2),\n",
    "    Arc(6, 4, 2),\n",
    "    Arc(5, 6, 2),\n",
    "    Arc(6, 7, 1),\n",
    "    Arc(7, 2, 7),\n",
    "    Arc(4, 2, 2),\n",
    "    Arc(3, 2, 5)\n",
    "]\n",
    "\n",
    "# Если следующий код выдает ошибку, что ему не удается выполнить `dot`, то\n",
    "# скорее всего придется отдельно поставить graphviz\n",
    "# https://graphviz.org/download/\n",
    "graph = Graph(arcs)\n",
    "visited = set()\n",
    "dfs_outlist = []\n",
    "path = []\n",
    "dfs_outlist.append(graph.Visualize())\n",
    "dfs(graph, 1, visited, dfs_outlist, path)\n",
    "dfs_outlist.append(graph.Visualize())\n",
    "animate_list(dfs_outlist, play=True, interval=400)"
   ]
  },
  {
   "cell_type": "code",
   "execution_count": 3,
   "metadata": {
    "pycharm": {
     "name": "#%%\n"
    }
   },
   "outputs": [],
   "source": [
    "arr = [\"начало работы алгоритма\", \"проверка на равенство чего-то\", \"продам гараж\", \"конец работы алгоритма\"]"
   ]
  },
  {
   "cell_type": "code",
   "execution_count": 4,
   "metadata": {
    "pycharm": {
     "name": "#%%\n"
    }
   },
   "outputs": [
    {
     "data": {
      "application/vnd.jupyter.widget-view+json": {
       "model_id": "07225eab215546d8907cf23ef5912c18",
       "version_major": 2,
       "version_minor": 0
      },
      "text/plain": [
       "Play(value=0, interval=400)"
      ]
     },
     "metadata": {},
     "output_type": "display_data"
    },
    {
     "data": {
      "application/vnd.jupyter.widget-view+json": {
       "model_id": "59a2edf693c949a0bb4c37ebbbbecec1",
       "version_major": 2,
       "version_minor": 0
      },
      "text/plain": [
       "interactive(children=(IntSlider(value=0, description='step', max=3), Output()), _dom_classes=('widget-interact…"
      ]
     },
     "metadata": {},
     "output_type": "display_data"
    },
    {
     "data": {
      "text/plain": [
       "<function visualization_utils.animate_list.step_slice(lst, step)>"
      ]
     },
     "execution_count": 4,
     "metadata": {},
     "output_type": "execute_result"
    }
   ],
   "source": [
    "animate_list(arr, play=True, interval=400)"
   ]
  },
  {
   "cell_type": "code",
   "execution_count": 5,
   "metadata": {
    "pycharm": {
     "name": "#%%\n"
    }
   },
   "outputs": [],
   "source": [
    "from functions.subset import subset\n",
    "from models.fa import FiniteAutomaton"
   ]
  },
  {
   "cell_type": "code",
   "execution_count": 6,
   "metadata": {
    "pycharm": {
     "name": "#%%\n"
    }
   },
   "outputs": [],
   "source": [
    "dfa1 = FiniteAutomaton(\n",
    "    states={'q0', 'q1', 'q2'},\n",
    "    input_symbols={'0', '1'},\n",
    "    transitions={\n",
    "        'q0': {'0': {'q0'}, '1': {'q1'}},\n",
    "        'q1': {'0': {'q0'}, '1': {'q2'}},\n",
    "        'q2': {'0': {'q2'}, '1': {'q1'}}\n",
    "    },\n",
    "    initial_state='q0',\n",
    "    final_states={'q1'}\n",
    ")"
   ]
  },
  {
   "cell_type": "code",
   "execution_count": 7,
   "metadata": {
    "pycharm": {
     "name": "#%%\n"
    }
   },
   "outputs": [],
   "source": [
    "s1 = dfa1.a_step()"
   ]
  },
  {
   "cell_type": "code",
   "execution_count": 8,
   "metadata": {
    "pycharm": {
     "name": "#%%\n"
    }
   },
   "outputs": [
    {
     "data": {
      "image/svg+xml": [
       "<?xml version=\"1.0\" encoding=\"UTF-8\" standalone=\"no\"?>\n",
       "<!DOCTYPE svg PUBLIC \"-//W3C//DTD SVG 1.1//EN\"\n",
       " \"http://www.w3.org/Graphics/SVG/1.1/DTD/svg11.dtd\">\n",
       "<!-- Generated by graphviz version 6.0.2 (20221011.1828)\n",
       " -->\n",
       "<!-- Pages: 1 -->\n",
       "<svg width=\"279pt\" height=\"85pt\"\n",
       " viewBox=\"0.00 0.00 279.49 85.30\" xmlns=\"http://www.w3.org/2000/svg\" xmlns:xlink=\"http://www.w3.org/1999/xlink\">\n",
       "<g id=\"graph0\" class=\"graph\" transform=\"scale(1 1) rotate(0) translate(4 81.3)\">\n",
       "<polygon fill=\"white\" stroke=\"none\" points=\"-4,4 -4,-81.3 275.49,-81.3 275.49,4 -4,4\"/>\n",
       "<!-- Initial -->\n",
       "<g id=\"node1\" class=\"node\">\n",
       "<title>Initial</title>\n",
       "<ellipse fill=\"black\" stroke=\"black\" cx=\"1.8\" cy=\"-24.15\" rx=\"1.8\" ry=\"1.8\"/>\n",
       "</g>\n",
       "<!-- q0 -->\n",
       "<g id=\"node2\" class=\"node\">\n",
       "<title>q0</title>\n",
       "<ellipse fill=\"none\" stroke=\"black\" cx=\"60.75\" cy=\"-24.15\" rx=\"20.3\" ry=\"20.3\"/>\n",
       "<text text-anchor=\"middle\" x=\"60.75\" y=\"-20.45\" font-family=\"Times New Roman,serif\" font-size=\"14.00\">q0</text>\n",
       "</g>\n",
       "<!-- Initial&#45;&gt;q0 -->\n",
       "<g id=\"edge1\" class=\"edge\">\n",
       "<title>Initial&#45;&gt;q0</title>\n",
       "<path fill=\"none\" stroke=\"black\" d=\"M3.79,-24.15C7.28,-24.15 19.5,-24.15 31.62,-24.15\"/>\n",
       "<polygon fill=\"black\" stroke=\"black\" points=\"31.81,-27.12 40.31,-24.15 31.81,-21.17 31.81,-27.12\"/>\n",
       "</g>\n",
       "<!-- q0&#45;&gt;q0 -->\n",
       "<g id=\"edge2\" class=\"edge\">\n",
       "<title>q0&#45;&gt;q0</title>\n",
       "<path fill=\"none\" stroke=\"black\" d=\"M53.76,-43.38C52.68,-53.33 55.01,-62.3 60.75,-62.3 64.69,-62.3 67.03,-58.06 67.75,-52.18\"/>\n",
       "<polygon fill=\"black\" stroke=\"black\" points=\"70.73,-51.88 67.74,-43.38 64.78,-51.89 70.73,-51.88\"/>\n",
       "<text text-anchor=\"middle\" x=\"60.75\" y=\"-66.1\" font-family=\"Times New Roman,serif\" font-size=\"14.00\"> 0 </text>\n",
       "</g>\n",
       "<!-- q1 -->\n",
       "<g id=\"node3\" class=\"node\">\n",
       "<title>q1</title>\n",
       "<ellipse fill=\"none\" stroke=\"black\" cx=\"156.04\" cy=\"-24.15\" rx=\"20.27\" ry=\"20.27\"/>\n",
       "<ellipse fill=\"none\" stroke=\"black\" cx=\"156.04\" cy=\"-24.15\" rx=\"24.3\" ry=\"24.3\"/>\n",
       "<text text-anchor=\"middle\" x=\"156.04\" y=\"-20.45\" font-family=\"Times New Roman,serif\" font-size=\"14.00\">q1</text>\n",
       "</g>\n",
       "<!-- q0&#45;&gt;q1 -->\n",
       "<g id=\"edge3\" class=\"edge\">\n",
       "<title>q0&#45;&gt;q1</title>\n",
       "<path fill=\"none\" stroke=\"black\" d=\"M81.08,-24.15C93.16,-24.15 109.02,-24.15 122.96,-24.15\"/>\n",
       "<polygon fill=\"black\" stroke=\"black\" points=\"123.28,-27.12 131.78,-24.15 123.28,-21.17 123.28,-27.12\"/>\n",
       "<text text-anchor=\"middle\" x=\"106.4\" y=\"-27.95\" font-family=\"Times New Roman,serif\" font-size=\"14.00\"> 1 </text>\n",
       "</g>\n",
       "<!-- q1&#45;&gt;q0 -->\n",
       "<g id=\"edge4\" class=\"edge\">\n",
       "<title>q1&#45;&gt;q0</title>\n",
       "<path fill=\"none\" stroke=\"black\" d=\"M135.29,-11.69C124.64,-6.45 111.2,-2.18 98.9,-5.15 94.52,-6.2 90.08,-7.87 85.86,-9.78\"/>\n",
       "<polygon fill=\"black\" stroke=\"black\" points=\"84.37,-7.2 78.11,-13.67 87.04,-12.52 84.37,-7.2\"/>\n",
       "<text text-anchor=\"middle\" x=\"106.4\" y=\"-8.95\" font-family=\"Times New Roman,serif\" font-size=\"14.00\"> 0 </text>\n",
       "</g>\n",
       "<!-- q2 -->\n",
       "<g id=\"node4\" class=\"node\">\n",
       "<title>q2</title>\n",
       "<ellipse fill=\"none\" stroke=\"black\" cx=\"251.34\" cy=\"-24.15\" rx=\"20.3\" ry=\"20.3\"/>\n",
       "<text text-anchor=\"middle\" x=\"251.34\" y=\"-20.45\" font-family=\"Times New Roman,serif\" font-size=\"14.00\">q2</text>\n",
       "</g>\n",
       "<!-- q1&#45;&gt;q2 -->\n",
       "<g id=\"edge5\" class=\"edge\">\n",
       "<title>q1&#45;&gt;q2</title>\n",
       "<path fill=\"none\" stroke=\"black\" d=\"M180.59,-24.15C193.22,-24.15 208.87,-24.15 222.15,-24.15\"/>\n",
       "<polygon fill=\"black\" stroke=\"black\" points=\"222.4,-27.12 230.9,-24.15 222.4,-21.17 222.4,-27.12\"/>\n",
       "<text text-anchor=\"middle\" x=\"205.69\" y=\"-27.95\" font-family=\"Times New Roman,serif\" font-size=\"14.00\"> 1 </text>\n",
       "</g>\n",
       "<!-- q2&#45;&gt;q1 -->\n",
       "<g id=\"edge7\" class=\"edge\">\n",
       "<title>q2&#45;&gt;q1</title>\n",
       "<path fill=\"none\" stroke=\"black\" d=\"M233.98,-13.67C227.73,-10.25 220.38,-6.88 213.19,-5.15 203.77,-2.88 193.68,-4.85 184.69,-8.25\"/>\n",
       "<polygon fill=\"black\" stroke=\"black\" points=\"183.4,-5.57 176.8,-11.69 185.78,-11.02 183.4,-5.57\"/>\n",
       "<text text-anchor=\"middle\" x=\"205.69\" y=\"-8.95\" font-family=\"Times New Roman,serif\" font-size=\"14.00\"> 1 </text>\n",
       "</g>\n",
       "<!-- q2&#45;&gt;q2 -->\n",
       "<g id=\"edge6\" class=\"edge\">\n",
       "<title>q2&#45;&gt;q2</title>\n",
       "<path fill=\"none\" stroke=\"black\" d=\"M243.19,-42.6C241.67,-52.85 244.39,-62.3 251.34,-62.3 256.23,-62.3 259.03,-57.63 259.72,-51.29\"/>\n",
       "<polygon fill=\"black\" stroke=\"black\" points=\"262.69,-51.01 259.49,-42.6 256.75,-51.17 262.69,-51.01\"/>\n",
       "<text text-anchor=\"middle\" x=\"251.34\" y=\"-66.1\" font-family=\"Times New Roman,serif\" font-size=\"14.00\"> 0 </text>\n",
       "</g>\n",
       "</g>\n",
       "</svg>\n"
      ],
      "text/plain": [
       "<graphviz.graphs.Digraph at 0x28ebf303280>"
      ]
     },
     "execution_count": 8,
     "metadata": {},
     "output_type": "execute_result"
    }
   ],
   "source": [
    "s1"
   ]
  },
  {
   "cell_type": "code",
   "execution_count": 9,
   "metadata": {
    "pycharm": {
     "name": "#%%\n"
    }
   },
   "outputs": [],
   "source": [
    "dfa2 = FiniteAutomaton(\n",
    "    states={'q0', 'q1', 'q2'},\n",
    "    input_symbols={'0', '1'},\n",
    "    transitions={\n",
    "        'q0': {'0': {'q0'}, '1': {'q1'}},\n",
    "        'q1': {'0': {'q0'}, '1': {'q2'}},\n",
    "        'q2': {'0': {'q2'}, '1': {'q1'}}\n",
    "    },\n",
    "    initial_state='q0',\n",
    "    final_states={'q1'}\n",
    ")"
   ]
  },
  {
   "cell_type": "code",
   "execution_count": 10,
   "metadata": {
    "pycharm": {
     "name": "#%%\n"
    }
   },
   "outputs": [],
   "source": [
    "s2 = dfa2.a_step()"
   ]
  },
  {
   "cell_type": "code",
   "execution_count": 11,
   "metadata": {
    "pycharm": {
     "name": "#%%\n"
    }
   },
   "outputs": [
    {
     "data": {
      "image/svg+xml": [
       "<?xml version=\"1.0\" encoding=\"UTF-8\" standalone=\"no\"?>\n",
       "<!DOCTYPE svg PUBLIC \"-//W3C//DTD SVG 1.1//EN\"\n",
       " \"http://www.w3.org/Graphics/SVG/1.1/DTD/svg11.dtd\">\n",
       "<!-- Generated by graphviz version 6.0.2 (20221011.1828)\n",
       " -->\n",
       "<!-- Pages: 1 -->\n",
       "<svg width=\"279pt\" height=\"85pt\"\n",
       " viewBox=\"0.00 0.00 279.49 85.30\" xmlns=\"http://www.w3.org/2000/svg\" xmlns:xlink=\"http://www.w3.org/1999/xlink\">\n",
       "<g id=\"graph0\" class=\"graph\" transform=\"scale(1 1) rotate(0) translate(4 81.3)\">\n",
       "<polygon fill=\"white\" stroke=\"none\" points=\"-4,4 -4,-81.3 275.49,-81.3 275.49,4 -4,4\"/>\n",
       "<!-- Initial -->\n",
       "<g id=\"node1\" class=\"node\">\n",
       "<title>Initial</title>\n",
       "<ellipse fill=\"black\" stroke=\"black\" cx=\"1.8\" cy=\"-24.15\" rx=\"1.8\" ry=\"1.8\"/>\n",
       "</g>\n",
       "<!-- q0 -->\n",
       "<g id=\"node2\" class=\"node\">\n",
       "<title>q0</title>\n",
       "<ellipse fill=\"none\" stroke=\"black\" cx=\"60.75\" cy=\"-24.15\" rx=\"20.3\" ry=\"20.3\"/>\n",
       "<text text-anchor=\"middle\" x=\"60.75\" y=\"-20.45\" font-family=\"Times New Roman,serif\" font-size=\"14.00\">q0</text>\n",
       "</g>\n",
       "<!-- Initial&#45;&gt;q0 -->\n",
       "<g id=\"edge1\" class=\"edge\">\n",
       "<title>Initial&#45;&gt;q0</title>\n",
       "<path fill=\"none\" stroke=\"black\" d=\"M3.79,-24.15C7.28,-24.15 19.5,-24.15 31.62,-24.15\"/>\n",
       "<polygon fill=\"black\" stroke=\"black\" points=\"31.81,-27.12 40.31,-24.15 31.81,-21.17 31.81,-27.12\"/>\n",
       "</g>\n",
       "<!-- q0&#45;&gt;q0 -->\n",
       "<g id=\"edge2\" class=\"edge\">\n",
       "<title>q0&#45;&gt;q0</title>\n",
       "<path fill=\"none\" stroke=\"black\" d=\"M53.76,-43.38C52.68,-53.33 55.01,-62.3 60.75,-62.3 64.69,-62.3 67.03,-58.06 67.75,-52.18\"/>\n",
       "<polygon fill=\"black\" stroke=\"black\" points=\"70.73,-51.88 67.74,-43.38 64.78,-51.89 70.73,-51.88\"/>\n",
       "<text text-anchor=\"middle\" x=\"60.75\" y=\"-66.1\" font-family=\"Times New Roman,serif\" font-size=\"14.00\"> 0 </text>\n",
       "</g>\n",
       "<!-- q1 -->\n",
       "<g id=\"node3\" class=\"node\">\n",
       "<title>q1</title>\n",
       "<ellipse fill=\"none\" stroke=\"black\" cx=\"156.04\" cy=\"-24.15\" rx=\"20.27\" ry=\"20.27\"/>\n",
       "<ellipse fill=\"none\" stroke=\"black\" cx=\"156.04\" cy=\"-24.15\" rx=\"24.3\" ry=\"24.3\"/>\n",
       "<text text-anchor=\"middle\" x=\"156.04\" y=\"-20.45\" font-family=\"Times New Roman,serif\" font-size=\"14.00\">q1</text>\n",
       "</g>\n",
       "<!-- q0&#45;&gt;q1 -->\n",
       "<g id=\"edge3\" class=\"edge\">\n",
       "<title>q0&#45;&gt;q1</title>\n",
       "<path fill=\"none\" stroke=\"black\" d=\"M81.08,-24.15C93.16,-24.15 109.02,-24.15 122.96,-24.15\"/>\n",
       "<polygon fill=\"black\" stroke=\"black\" points=\"123.28,-27.12 131.78,-24.15 123.28,-21.17 123.28,-27.12\"/>\n",
       "<text text-anchor=\"middle\" x=\"106.4\" y=\"-27.95\" font-family=\"Times New Roman,serif\" font-size=\"14.00\"> 1 </text>\n",
       "</g>\n",
       "<!-- q1&#45;&gt;q0 -->\n",
       "<g id=\"edge4\" class=\"edge\">\n",
       "<title>q1&#45;&gt;q0</title>\n",
       "<path fill=\"none\" stroke=\"black\" d=\"M135.29,-11.69C124.64,-6.45 111.2,-2.18 98.9,-5.15 94.52,-6.2 90.08,-7.87 85.86,-9.78\"/>\n",
       "<polygon fill=\"black\" stroke=\"black\" points=\"84.37,-7.2 78.11,-13.67 87.04,-12.52 84.37,-7.2\"/>\n",
       "<text text-anchor=\"middle\" x=\"106.4\" y=\"-8.95\" font-family=\"Times New Roman,serif\" font-size=\"14.00\"> 0 </text>\n",
       "</g>\n",
       "<!-- q2 -->\n",
       "<g id=\"node4\" class=\"node\">\n",
       "<title>q2</title>\n",
       "<ellipse fill=\"none\" stroke=\"black\" cx=\"251.34\" cy=\"-24.15\" rx=\"20.3\" ry=\"20.3\"/>\n",
       "<text text-anchor=\"middle\" x=\"251.34\" y=\"-20.45\" font-family=\"Times New Roman,serif\" font-size=\"14.00\">q2</text>\n",
       "</g>\n",
       "<!-- q1&#45;&gt;q2 -->\n",
       "<g id=\"edge5\" class=\"edge\">\n",
       "<title>q1&#45;&gt;q2</title>\n",
       "<path fill=\"none\" stroke=\"black\" d=\"M180.59,-24.15C193.22,-24.15 208.87,-24.15 222.15,-24.15\"/>\n",
       "<polygon fill=\"black\" stroke=\"black\" points=\"222.4,-27.12 230.9,-24.15 222.4,-21.17 222.4,-27.12\"/>\n",
       "<text text-anchor=\"middle\" x=\"205.69\" y=\"-27.95\" font-family=\"Times New Roman,serif\" font-size=\"14.00\"> 1 </text>\n",
       "</g>\n",
       "<!-- q2&#45;&gt;q1 -->\n",
       "<g id=\"edge7\" class=\"edge\">\n",
       "<title>q2&#45;&gt;q1</title>\n",
       "<path fill=\"none\" stroke=\"black\" d=\"M233.98,-13.67C227.73,-10.25 220.38,-6.88 213.19,-5.15 203.77,-2.88 193.68,-4.85 184.69,-8.25\"/>\n",
       "<polygon fill=\"black\" stroke=\"black\" points=\"183.4,-5.57 176.8,-11.69 185.78,-11.02 183.4,-5.57\"/>\n",
       "<text text-anchor=\"middle\" x=\"205.69\" y=\"-8.95\" font-family=\"Times New Roman,serif\" font-size=\"14.00\"> 1 </text>\n",
       "</g>\n",
       "<!-- q2&#45;&gt;q2 -->\n",
       "<g id=\"edge6\" class=\"edge\">\n",
       "<title>q2&#45;&gt;q2</title>\n",
       "<path fill=\"none\" stroke=\"black\" d=\"M243.19,-42.6C241.67,-52.85 244.39,-62.3 251.34,-62.3 256.23,-62.3 259.03,-57.63 259.72,-51.29\"/>\n",
       "<polygon fill=\"black\" stroke=\"black\" points=\"262.69,-51.01 259.49,-42.6 256.75,-51.17 262.69,-51.01\"/>\n",
       "<text text-anchor=\"middle\" x=\"251.34\" y=\"-66.1\" font-family=\"Times New Roman,serif\" font-size=\"14.00\"> 0 </text>\n",
       "</g>\n",
       "</g>\n",
       "</svg>\n"
      ],
      "text/plain": [
       "<graphviz.graphs.Digraph at 0x28ebf303490>"
      ]
     },
     "execution_count": 11,
     "metadata": {},
     "output_type": "execute_result"
    }
   ],
   "source": [
    "s2"
   ]
  },
  {
   "cell_type": "code",
   "execution_count": 12,
   "metadata": {
    "pycharm": {
     "name": "#%%\n"
    }
   },
   "outputs": [],
   "source": [
    "_, steps = subset(dfa1, dfa2)"
   ]
  },
  {
   "cell_type": "code",
   "execution_count": 13,
   "metadata": {
    "pycharm": {
     "name": "#%%\n"
    }
   },
   "outputs": [
    {
     "data": {
      "application/vnd.jupyter.widget-view+json": {
       "model_id": "8ce2e18f4a4c4ddf9efe29fdcd85e7e5",
       "version_major": 2,
       "version_minor": 0
      },
      "text/plain": [
       "Play(value=0, interval=400)"
      ]
     },
     "metadata": {},
     "output_type": "display_data"
    },
    {
     "data": {
      "application/vnd.jupyter.widget-view+json": {
       "model_id": "0cd4abbd78b34214b377905f9cf5812c",
       "version_major": 2,
       "version_minor": 0
      },
      "text/plain": [
       "interactive(children=(IntSlider(value=0, description='step', max=3), Output()), _dom_classes=('widget-interact…"
      ]
     },
     "metadata": {},
     "output_type": "display_data"
    },
    {
     "data": {
      "text/plain": [
       "<function visualization_utils.animate_list.step_slice(lst, step)>"
      ]
     },
     "execution_count": 13,
     "metadata": {},
     "output_type": "execute_result"
    }
   ],
   "source": [
    "animate_list(lst=steps, play=True, interval=400)"
   ]
  },
  {
   "cell_type": "code",
   "execution_count": null,
   "outputs": [],
   "source": [],
   "metadata": {
    "collapsed": false,
    "pycharm": {
     "name": "#%%\n"
    }
   }
  },
  {
   "cell_type": "code",
   "execution_count": null,
   "metadata": {},
   "outputs": [],
   "source": []
  }
 ],
 "metadata": {
  "kernelspec": {
   "display_name": "Python 3 (ipykernel)",
   "language": "python",
   "name": "python3"
  },
  "language_info": {
   "codemirror_mode": {
    "name": "ipython",
    "version": 3
   },
   "file_extension": ".py",
   "mimetype": "text/x-python",
   "name": "python",
   "nbconvert_exporter": "python",
   "pygments_lexer": "ipython3",
   "version": "3.10.4"
  }
 },
 "nbformat": 4,
 "nbformat_minor": 1
}