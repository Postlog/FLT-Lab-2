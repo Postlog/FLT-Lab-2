{
 "cells": [
  {
   "cell_type": "markdown",
   "metadata": {
    "pycharm": {
     "name": "#%% md\n"
    }
   },
   "source": [
    "# Лабораторная работа №2 команды Чайхана\n",
    "---\n",
    "\n",
    "*[github](https://github.com/Postlog/FLT-Lab-2)*"
   ]
  },
  {
   "cell_type": "code",
   "execution_count": 1,
   "metadata": {
    "pycharm": {
     "name": "#%%\n"
    }
   },
   "outputs": [],
   "source": [
    "# setting up\n",
    "%load_ext autoreload\n",
    "%autoreload 2\n",
    "\n",
    "# imports\n",
    "from visualization_utils.animate_list import animate_list"
   ]
  },
  {
   "cell_type": "code",
   "execution_count": 2,
   "metadata": {
    "pycharm": {
     "name": "#%%\n"
    }
   },
   "outputs": [
    {
     "data": {
      "application/vnd.jupyter.widget-view+json": {
       "model_id": "289dbe91634b46ba9250f081649cb2af",
       "version_major": 2,
       "version_minor": 0
      },
      "text/plain": [
       "Play(value=0, interval=400)"
      ]
     },
     "metadata": {},
     "output_type": "display_data"
    },
    {
     "data": {
      "application/vnd.jupyter.widget-view+json": {
       "model_id": "aa1a9b3572ed4165b604ab9d42b5df9d",
       "version_major": 2,
       "version_minor": 0
      },
      "text/plain": [
       "interactive(children=(IntSlider(value=0, description='step', max=19), Output()), _dom_classes=('widget-interac…"
      ]
     },
     "metadata": {},
     "output_type": "display_data"
    },
    {
     "data": {
      "text/plain": [
       "<function visualization_utils.animate_list.step_slice(lst, step)>"
      ]
     },
     "execution_count": 2,
     "metadata": {},
     "output_type": "execute_result"
    }
   ],
   "source": [
    "# Обертка для упрощения работы с графами\n",
    "from visualization_utils.graph import Graph, Arc, Node\n",
    "\n",
    "def enter_node(node):\n",
    "    node.SetColor('blue')\n",
    "\n",
    "def enter_arc(node, arc):\n",
    "    node.SetColor('green')\n",
    "    arc.attributes['style'] = 'dashed'\n",
    "    arc.attributes['color'] = 'green'\n",
    "\n",
    "def return_from_arc(node, arc):\n",
    "    arc.attributes['style'] = 'solid'\n",
    "    arc.attributes['color'] = 'red'\n",
    "    node.SetColor('blue')\n",
    "\n",
    "def ignore_arc(arc):\n",
    "    arc.attributes['color'] = 'blue'\n",
    "\n",
    "def leave_node(node):\n",
    "    node.SetColor('red')\n",
    "\n",
    "def dfs(graph: Graph, node_id, visited, outlist, path):\n",
    "    visited.add(node_id)\n",
    "    path.append(node_id)\n",
    "    enter_node(graph.nodes[node_id])\n",
    "    outlist.append(graph.Visualize())\n",
    "    for arc in graph.nodes[node_id].arcs:\n",
    "        if arc.end not in visited:\n",
    "            enter_arc(graph.nodes[node_id], arc)\n",
    "            dfs(graph, arc.end, visited, outlist, path)\n",
    "            return_from_arc(graph.nodes[node_id], arc)\n",
    "            path.append(node_id)\n",
    "        else:\n",
    "            ignore_arc(arc)\n",
    "        outlist.append(graph.Visualize())\n",
    "    leave_node(graph.nodes[node_id])\n",
    "\n",
    "arcs = [\n",
    "    Arc(1, 3, 3),\n",
    "    Arc(1, 4, 7),\n",
    "    Arc(4, 3, 2),\n",
    "    Arc(4, 5, 3),\n",
    "    Arc(1, 5, 2),\n",
    "    Arc(6, 4, 2),\n",
    "    Arc(5, 6, 2),\n",
    "    Arc(6, 7, 1),\n",
    "    Arc(7, 2, 7),\n",
    "    Arc(4, 2, 2),\n",
    "    Arc(3, 2, 5)\n",
    "]\n",
    "\n",
    "# Если следующий код выдает ошибку, что ему не удается выполнить `dot`, то\n",
    "# скорее всего придется отдельно поставить graphviz\n",
    "# https://graphviz.org/download/\n",
    "graph = Graph(arcs)\n",
    "visited = set()\n",
    "dfs_outlist = []\n",
    "path = []\n",
    "dfs_outlist.append(graph.Visualize())\n",
    "dfs(graph, 1, visited, dfs_outlist, path)\n",
    "dfs_outlist.append(graph.Visualize())\n",
    "animate_list(dfs_outlist, play=True, interval=400)"
   ]
  },
  {
   "cell_type": "code",
   "execution_count": 3,
   "metadata": {
    "pycharm": {
     "name": "#%%\n"
    }
   },
   "outputs": [],
   "source": [
    "arr = [1, 2, 3]"
   ]
  },
  {
   "cell_type": "code",
   "execution_count": 4,
   "metadata": {
    "pycharm": {
     "name": "#%%\n"
    }
   },
   "outputs": [
    {
     "data": {
      "application/vnd.jupyter.widget-view+json": {
       "model_id": "35fc5509f8cf43cbbeaca7e383355598",
       "version_major": 2,
       "version_minor": 0
      },
      "text/plain": [
       "Play(value=0, interval=400)"
      ]
     },
     "metadata": {},
     "output_type": "display_data"
    },
    {
     "data": {
      "application/vnd.jupyter.widget-view+json": {
       "model_id": "1d74dfd39eda42f1af30a637c77bda2b",
       "version_major": 2,
       "version_minor": 0
      },
      "text/plain": [
       "interactive(children=(IntSlider(value=0, description='step', max=2), Output()), _dom_classes=('widget-interact…"
      ]
     },
     "metadata": {},
     "output_type": "display_data"
    },
    {
     "data": {
      "text/plain": [
       "<function __main__.step_slice(lst, step)>"
      ]
     },
     "execution_count": 4,
     "metadata": {},
     "output_type": "execute_result"
    }
   ],
   "source": [
    "animate_list(arr, play=True, interval=400)"
   ]
  }
 ],
 "metadata": {
  "kernelspec": {
   "display_name": "Python 3 (ipykernel)",
   "language": "python",
   "name": "python3"
  },
  "language_info": {
   "codemirror_mode": {
    "name": "ipython",
    "version": 3
   },
   "file_extension": ".py",
   "mimetype": "text/x-python",
   "name": "python",
   "nbconvert_exporter": "python",
   "pygments_lexer": "ipython3",
   "version": "3.10.4"
  }
 },
 "nbformat": 4,
 "nbformat_minor": 1
}